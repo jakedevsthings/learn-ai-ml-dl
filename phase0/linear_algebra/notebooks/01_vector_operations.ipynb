{
 "cells": [
  {
   "cell_type": "markdown",
   "metadata": {},
   "source": [
    "# Vector Operations from Scratch and with NumPy\n",
    "\n",
    "In this notebook, we'll implement basic vector operations from scratch and then compare with NumPy implementations."
   ]
  },
  {
   "cell_type": "code",
   "execution_count": 1,
   "metadata": {},
   "outputs": [
    {
     "name": "stderr",
     "output_type": "stream",
     "text": [
      "/tmp/ipykernel_20712/1543790735.py:7: MatplotlibDeprecationWarning: The seaborn styles shipped by Matplotlib are deprecated since 3.6, as they no longer correspond to the styles shipped by seaborn. However, they will remain available as 'seaborn-v0_8-<style>'. Alternatively, directly use the seaborn API instead.\n",
      "  plt.style.use('seaborn-whitegrid')\n"
     ]
    }
   ],
   "source": [
    "# Import necessary libraries\n",
    "import numpy as np\n",
    "import matplotlib.pyplot as plt\n",
    "\n",
    "# Set up plotting environment\n",
    "%matplotlib inline\n",
    "plt.style.use('seaborn-whitegrid')"
   ]
  },
  {
   "cell_type": "markdown",
   "metadata": {},
   "source": [
    "## 1. Vector Representation\n",
    "\n",
    "Let's start by creating vectors both from scratch (using Python lists) and with NumPy arrays."
   ]
  },
  {
   "cell_type": "code",
   "execution_count": 2,
   "metadata": {},
   "outputs": [
    {
     "name": "stdout",
     "output_type": "stream",
     "text": [
      "Python list vector a: [2, 3]\n",
      "NumPy vector a: [2 3]\n"
     ]
    }
   ],
   "source": [
    "# Create vectors using Python lists\n",
    "vector_a = [2, 3]\n",
    "vector_b = [4, 1]\n",
    "\n",
    "# Create the same vectors using NumPy\n",
    "np_vector_a = np.array([2, 3])\n",
    "np_vector_b = np.array([4, 1])\n",
    "\n",
    "print(f\"Python list vector a: {vector_a}\")\n",
    "print(f\"NumPy vector a: {np_vector_a}\")"
   ]
  },
  {
   "cell_type": "markdown",
   "metadata": {},
   "source": [
    "## 2. Basic Vector Operations\n",
    "\n",
    "Now, let's implement basic vector operations from scratch and compare with NumPy."
   ]
  },
  {
   "cell_type": "code",
   "execution_count": 7,
   "metadata": {},
   "outputs": [
    {
     "name": "stdout",
     "output_type": "stream",
     "text": [
      "vector_a:[2, 3]\n",
      "vector_b:[4, 1]\n",
      "[6, 4]\n"
     ]
    }
   ],
   "source": [
    "def vector_add(v1, v2):\n",
    "    if len(v1) != len(v2):\n",
    "        raise ValueError(\"not same size\")\n",
    "    return [v1[i] + v2[i] for i in range(len(v1))]\n",
    " \n",
    "print(\"vector_a:\" + str(vector_a))\n",
    "print(\"vector_b:\" + str(vector_b))\n",
    "print(vector_add(vector_a, vector_b))"
   ]
  },
  {
   "cell_type": "code",
   "execution_count": null,
   "metadata": {},
   "outputs": [],
   "source": []
  }
 ],
 "metadata": {
  "kernelspec": {
   "display_name": "venv",
   "language": "python",
   "name": "python3"
  },
  "language_info": {
   "codemirror_mode": {
    "name": "ipython",
    "version": 3
   },
   "file_extension": ".py",
   "mimetype": "text/x-python",
   "name": "python",
   "nbconvert_exporter": "python",
   "pygments_lexer": "ipython3",
   "version": "3.11.11"
  }
 },
 "nbformat": 4,
 "nbformat_minor": 4
}
